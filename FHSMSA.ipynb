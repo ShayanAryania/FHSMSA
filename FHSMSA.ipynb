{
 "cells": [
  {
   "cell_type": "code",
   "execution_count": 2,
   "metadata": {},
   "outputs": [],
   "source": [
    "def MLCS (seq1, seq2, seq3) : \n",
    "    len_seq1 = len(seq1)\n",
    "    len_seq2 = len(seq2)\n",
    "    len_seq3 = len(seq3)\n",
    "    dp = [[[0 for _ in range(len_seq3+1)] for _ in range(len_seq2+1)] for _ in range(len_seq1+1)]\n",
    "\n",
    "    for i in range(1, len_seq1+1):\n",
    "        for k in range(1, len_seq2+1):\n",
    "            for j in range(1, len_seq3+1):\n",
    "                if seq1[i-1] == seq2[k-1] == seq3[j-1]:\n",
    "                    dp[i][k][j] = dp[i-1][k-1][j-1] + 1\n",
    "                else:\n",
    "                    dp[i][k][j] = max(dp[i-1][k][j], dp[i][k-1][j], dp[i][k][j-1])\n",
    "\n",
    "    Align1, Align2, Align3 = '', '', ''\n",
    "    i, k, j = len_seq1, len_seq2, len_seq3\n",
    "\n",
    "    while i > 0 and k > 0 and j > 0:\n",
    "        if seq1[i-1] == seq2[k-1] == seq3[j-1]:\n",
    "            Align1 = seq1[i-1] + Align1\n",
    "            Align2 = seq2[k-1] + Align2\n",
    "            Align3 = seq3[j-1] + Align3\n",
    "\n",
    "            i -= 1\n",
    "            k -= 1\n",
    "            j -= 1\n",
    "\n",
    "        elif dp[i-1][k][j] >= dp[i][k-1][j] and dp[i-1][k][j] >= dp[i][k][j-1]:\n",
    "            Align1 = seq1[i-1] + Align1\n",
    "            Align2 = '-' + Align2\n",
    "            Align3 = '-' + Align3\n",
    "            i -= 1\n",
    "\n",
    "        elif dp[i][k-1][j] >= dp[i][k][j-1]:\n",
    "            Align1 = '-' + Align1\n",
    "            Align2 = seq2[k-1] + Align2\n",
    "            Align3 = '-' + Align3\n",
    "            k -= 1\n",
    "\n",
    "        else:\n",
    "            Align1 = '-' + Align1\n",
    "            Align2 = '-' + Align2\n",
    "            Align3 = seq3[j-1] + Align3\n",
    "            j -= 1\n",
    "\n",
    "    while i > 0:\n",
    "        Align1 = seq1[i-1] + Align1\n",
    "        Align2 = '-' + Align2\n",
    "        Align3 = '-' + Align3\n",
    "        i -= 1\n",
    "\n",
    "    while k > 0:\n",
    "        Align1 = '-' + Align1\n",
    "        Align2 = seq2[k-1] + Align2\n",
    "        Align3 = '-' + Align3\n",
    "        k -= 1\n",
    "\n",
    "    while j > 0:\n",
    "        Align1 = '-' + Align1\n",
    "        Align2 = '-' + Align2\n",
    "        Align3 = seq3[j-1] + Align3\n",
    "        j -= 1\n",
    "\n",
    "    return dp[len_seq1][len_seq2][len_seq3], Align1, Align2, Align3"
   ]
  },
  {
   "cell_type": "code",
   "execution_count": 16,
   "metadata": {},
   "outputs": [],
   "source": [
    "with open('/Users/shayanaryania/Downloads/rosalind_ba5m.txt','r') as file:\n",
    "    data = file.readlines()"
   ]
  },
  {
   "cell_type": "code",
   "execution_count": 23,
   "metadata": {},
   "outputs": [
    {
     "data": {
      "text/plain": [
       "['GTATAGGCAAGGCGGATCAAGTTGGTTA\\n',\n",
       " 'TTAGCCATAAAGGACTTACAACAT\\n',\n",
       " 'ATGCCTGGAGTGAGCATTTAAAAGTGA\\n']"
      ]
     },
     "execution_count": 23,
     "metadata": {},
     "output_type": "execute_result"
    }
   ],
   "source": [
    "data"
   ]
  },
  {
   "cell_type": "code",
   "execution_count": 22,
   "metadata": {},
   "outputs": [],
   "source": [
    "newdata = []\n",
    "for i in data:\n",
    "    newdata.append(i.replace('\\n',''))"
   ]
  },
  {
   "cell_type": "code",
   "execution_count": 24,
   "metadata": {},
   "outputs": [
    {
     "data": {
      "text/plain": [
       "['GTATAGGCAAGGCGGATCAAGTTGGTTA',\n",
       " 'TTAGCCATAAAGGACTTACAACAT',\n",
       " 'ATGCCTGGAGTGAGCATTTAAAAGTGA']"
      ]
     },
     "execution_count": 24,
     "metadata": {},
     "output_type": "execute_result"
    }
   ],
   "source": [
    "newdata"
   ]
  },
  {
   "cell_type": "code",
   "execution_count": 25,
   "metadata": {},
   "outputs": [
    {
     "name": "stdout",
     "output_type": "stream",
     "text": [
      "12\n",
      "--GT-ATAGGCAAGGC------GGA--T-----C------AA---GT--TGGTTA\n",
      "-T-TA----GC----C-ATAAAGGA-CT---TAC------AA-CA-T--------\n",
      "A--T-----GC----CT-----GGAG-TGAG--CATTTAAAAG---TGA------\n"
     ]
    }
   ],
   "source": [
    "Score, Align1, Align2, Align3 = MLCS(newdata[0],newdata[1],newdata[2])\n",
    "print(Score)\n",
    "print(Align1)\n",
    "print(Align2)\n",
    "print(Align3)"
   ]
  },
  {
   "cell_type": "code",
   "execution_count": null,
   "metadata": {},
   "outputs": [],
   "source": []
  }
 ],
 "metadata": {
  "kernelspec": {
   "display_name": "Python 3",
   "language": "python",
   "name": "python3"
  },
  "language_info": {
   "codemirror_mode": {
    "name": "ipython",
    "version": 3
   },
   "file_extension": ".py",
   "mimetype": "text/x-python",
   "name": "python",
   "nbconvert_exporter": "python",
   "pygments_lexer": "ipython3",
   "version": "3.11.4"
  }
 },
 "nbformat": 4,
 "nbformat_minor": 2
}
